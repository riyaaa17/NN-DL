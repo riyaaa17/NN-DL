{
  "nbformat": 4,
  "nbformat_minor": 0,
  "metadata": {
    "colab": {
      "provenance": []
    },
    "kernelspec": {
      "name": "python3",
      "display_name": "Python 3"
    },
    "language_info": {
      "name": "python"
    }
  },
  "cells": [
    {
      "cell_type": "code",
      "execution_count": 1,
      "metadata": {
        "id": "ZmOLGIa_af1Q"
      },
      "outputs": [],
      "source": [
        "import tensorflow as tf\n",
        "from tensorflow.keras.models import Sequential\n",
        "from tensorflow.keras.layers import Dense, Flatten, Conv2D, MaxPooling2D\n",
        "from tensorflow.keras.datasets import mnist\n",
        "from tensorflow.keras.utils import to_categorical\n"
      ]
    },
    {
      "cell_type": "code",
      "source": [
        "# Load dataset\n",
        "(x_train, y_train), (x_test, y_test) = mnist.load_data()\n",
        "\n",
        "# Normalize the images to values between 0 and 1\n",
        "x_train, x_test = x_train / 255.0, x_test / 255.0\n",
        "\n",
        "# Reshape data to fit the model\n",
        "x_train = x_train.reshape(-1, 28, 28, 1)\n",
        "x_test = x_test.reshape(-1, 28, 28, 1)\n",
        "\n",
        "# One-hot encode the labels\n",
        "y_train = to_categorical(y_train, 10)\n",
        "y_test = to_categorical(y_test, 10)\n",
        "model = Sequential([\n",
        "    Conv2D(32, kernel_size=(3, 3), activation='relu', input_shape=(28, 28, 1)),\n",
        "    MaxPooling2D(pool_size=(2, 2)),\n",
        "    Flatten(),\n",
        "    Dense(128, activation='relu'),\n",
        "    Dense(10, activation='softmax')\n",
        "])\n"
      ],
      "metadata": {
        "colab": {
          "base_uri": "https://localhost:8080/"
        },
        "id": "ziQazGWtagfa",
        "outputId": "d0c2f6f1-0ebf-4f93-960e-b79558246976"
      },
      "execution_count": 2,
      "outputs": [
        {
          "output_type": "stream",
          "name": "stdout",
          "text": [
            "Downloading data from https://storage.googleapis.com/tensorflow/tf-keras-datasets/mnist.npz\n",
            "11490434/11490434 [==============================] - 0s 0us/step\n"
          ]
        }
      ]
    },
    {
      "cell_type": "code",
      "source": [
        "model.compile(optimizer='adam',\n",
        "              loss='categorical_crossentropy',\n",
        "              metrics=['accuracy'])\n",
        "\n",
        "model.fit(x_train, y_train, validation_data=(x_test, y_test), epochs=5)\n"
      ],
      "metadata": {
        "colab": {
          "base_uri": "https://localhost:8080/"
        },
        "id": "IByw_IEraq30",
        "outputId": "a71df0c0-2fbf-4efd-d82c-8d0be1a104e3"
      },
      "execution_count": 4,
      "outputs": [
        {
          "output_type": "stream",
          "name": "stdout",
          "text": [
            "Epoch 1/5\n",
            "1875/1875 [==============================] - 45s 23ms/step - loss: 0.1537 - accuracy: 0.9551 - val_loss: 0.0653 - val_accuracy: 0.9789\n",
            "Epoch 2/5\n",
            "1875/1875 [==============================] - 42s 22ms/step - loss: 0.0520 - accuracy: 0.9848 - val_loss: 0.0468 - val_accuracy: 0.9838\n",
            "Epoch 3/5\n",
            "1875/1875 [==============================] - 43s 23ms/step - loss: 0.0330 - accuracy: 0.9897 - val_loss: 0.0446 - val_accuracy: 0.9855\n",
            "Epoch 4/5\n",
            "1875/1875 [==============================] - 41s 22ms/step - loss: 0.0220 - accuracy: 0.9931 - val_loss: 0.0382 - val_accuracy: 0.9883\n",
            "Epoch 5/5\n",
            "1875/1875 [==============================] - 41s 22ms/step - loss: 0.0142 - accuracy: 0.9955 - val_loss: 0.0434 - val_accuracy: 0.9872\n"
          ]
        },
        {
          "output_type": "execute_result",
          "data": {
            "text/plain": [
              "<keras.src.callbacks.History at 0x79e38a4e6dd0>"
            ]
          },
          "metadata": {},
          "execution_count": 4
        }
      ]
    },
    {
      "cell_type": "code",
      "source": [
        "test_loss, test_acc = model.evaluate(x_test, y_test, verbose=2)\n",
        "print(f'\\nTest accuracy: {test_acc}')\n"
      ],
      "metadata": {
        "colab": {
          "base_uri": "https://localhost:8080/"
        },
        "id": "7oHZSmx3aujD",
        "outputId": "3d13d3bc-c83b-4bb8-87f5-f0c66da0dc57"
      },
      "execution_count": 5,
      "outputs": [
        {
          "output_type": "stream",
          "name": "stdout",
          "text": [
            "313/313 - 2s - loss: 0.0434 - accuracy: 0.9872 - 2s/epoch - 5ms/step\n",
            "\n",
            "Test accuracy: 0.9872000217437744\n"
          ]
        }
      ]
    },
    {
      "cell_type": "markdown",
      "source": [
        "## Neural network with 2 input neurons, 2 hidden neurons, and 1 output neuron."
      ],
      "metadata": {
        "id": "T7ptkTigWksz"
      }
    },
    {
      "cell_type": "code",
      "source": [
        "import pandas as pd\n",
        "import numpy as np\n",
        "from sklearn.preprocessing import scale\n",
        "import time\n",
        "import numpy as np\n",
        "import matplotlib.pyplot as plt\n",
        "import sklearn.linear_model as lm\n",
        "import seaborn as sns\n",
        "from sklearn.preprocessing import scale\n",
        "import sklearn.linear_model as lm\n",
        "import statsmodels.formula.api as smf\n",
        "from statsmodels.stats.outliers_influence import variance_inflation_factor\n",
        "import statsmodels.api as sm\n"
      ],
      "metadata": {
        "id": "u219zeoqoONx"
      },
      "execution_count": 1,
      "outputs": []
    },
    {
      "cell_type": "code",
      "source": [
        "### activation function\n",
        "np.random.seed(2)\n",
        "X = np.random.randn(4,10)\n",
        "y = np.random.randn(1,10) >0\n",
        "print(y)\n",
        "#sigmoid\n",
        "def sigmoid(Z):\n",
        "    s = 1/(1+np.exp(-Z))\n",
        "    return s\n",
        "# tan h\n",
        "def tanh(Z):\n",
        "    a = (np.exp(Z)- np.exp(-Z))/(np.exp(Z)+np.exp(-Z))\n",
        "    return a\n",
        "#relu\n",
        "def relu(Z):\n",
        "    a = np.maximum(0,Z)\n",
        "    return a\n",
        "#leaky relu\n",
        "def lrelu(Z):\n",
        "    a = np.maximum(0.01*Z,Z)\n",
        "    return a\n",
        "## Derivatives of activation function\n",
        "def dsigmoid(s):\n",
        "    das = s*(1-s)\n",
        "    return das\n",
        "def dtanh(s):\n",
        "    das = (1-s**2)\n",
        "    return das\n",
        "def drelu(s):\n",
        "    das = (np.int64(s>0))\n",
        "    return das\n",
        "\n",
        "def dlrelu(s,alpha):\n",
        "\n",
        "    darl = np.where(s>0,1,alpha*s)\n",
        "    return darl\n",
        "#Softmax Function\n",
        "def softmax(vector):\n",
        "    e = np.exp(vector)\n",
        "    s= e / e.sum()\n",
        "    return s\n",
        "sof=softmax(X)\n",
        "print(sof)\n"
      ],
      "metadata": {
        "colab": {
          "base_uri": "https://localhost:8080/"
        },
        "id": "2JfwJAC3Uohx",
        "outputId": "ff5cfe80-5fe4-4187-865f-7c973dd8b5da"
      },
      "execution_count": 11,
      "outputs": [
        {
          "output_type": "stream",
          "name": "stdout",
          "text": [
            "[[False  True False  True  True False  True  True False  True]]\n",
            "[[0.0111848  0.01603937 0.00200394 0.0874952  0.00282322 0.00731236\n",
            "  0.02805578 0.0048843  0.00589062 0.0068367 ]\n",
            " [0.02945216 0.16792562 0.0176874  0.00554772 0.02908933 0.00934792\n",
            "  0.01664621 0.05494399 0.00803207 0.01712156]\n",
            " [0.00705125 0.01451059 0.02193061 0.00631251 0.01209136 0.01339832\n",
            "  0.00896796 0.00517428 0.00409635 0.0145533 ]\n",
            " [0.01296504 0.15801341 0.00148668 0.01899241 0.02457569 0.06608534\n",
            "  0.02802706 0.00729435 0.01696789 0.02918532]]\n"
          ]
        }
      ]
    },
    {
      "cell_type": "code",
      "source": [
        "import numpy as np\n",
        "\n",
        "def sigmoid(x):\n",
        "    return 1 / (1 + np.exp(-x))\n",
        "\n",
        "def sigmoid_derivative(x):\n",
        "    return x * (1 - x)\n",
        "\n",
        "input_size = 2\n",
        "hidden_size = 2\n",
        "output_size = 1\n",
        "\n",
        "np.random.seed(1)\n",
        "\n",
        "weights_input_hidden = np.random.uniform(size=(input_size, hidden_size))\n",
        "weights_hidden_output = np.random.uniform(size=(hidden_size, output_size))\n",
        "\n",
        "bias_hidden = np.random.uniform(size=(1, hidden_size))\n",
        "bias_output = np.random.uniform(size=(1, output_size))\n",
        "\n",
        "def feedforward(inputs):\n",
        "    hidden_layer_activation = np.dot(inputs, weights_input_hidden) + bias_hidden\n",
        "    hidden_layer_output = sigmoid(hidden_layer_activation)\n",
        "\n",
        "    output_layer_activation = np.dot(hidden_layer_output, weights_hidden_output) + bias_output\n",
        "    predicted_output = sigmoid(output_layer_activation)\n",
        "    return hidden_layer_output, predicted_output\n",
        "\n",
        "def backpropagate(inputs, hidden_layer_output, predicted_output, expected_output):\n",
        "    global weights_input_hidden, weights_hidden_output, bias_hidden, bias_output\n",
        "\n",
        "    error = expected_output - predicted_output\n",
        "    d_predicted_output = error * sigmoid_derivative(predicted_output)\n",
        "\n",
        "    error_hidden_layer = d_predicted_output.dot(weights_hidden_output.T)\n",
        "    d_hidden_layer = error_hidden_layer * sigmoid_derivative(hidden_layer_output)\n",
        "\n",
        "    weights_hidden_output += hidden_layer_output.T.dot(d_predicted_output) * learning_rate\n",
        "    weights_input_hidden += inputs.T.dot(d_hidden_layer) * learning_rate\n",
        "\n",
        "    bias_hidden += np.sum(d_hidden_layer, axis=0, keepdims=True) * learning_rate\n",
        "    bias_output += np.sum(d_predicted_output, axis=0, keepdims=True) * learning_rate\n",
        "\n",
        "inputs = np.array([[0, 0], [0, 1], [1, 0], [1, 1]])\n",
        "expected_output = np.array([[0], [1], [1], [0]])\n",
        "\n",
        "learning_rate = 0.1\n",
        "epochs = 10000\n",
        "\n",
        "for epoch in range(epochs):\n",
        "    hidden_layer_output, predicted_output = feedforward(inputs)\n",
        "    backpropagate(inputs, hidden_layer_output, predicted_output, expected_output)\n",
        "\n",
        "    if epoch % 1000 == 0:\n",
        "        loss = np.mean(np.square(expected_output - predicted_output))\n",
        "        print(f\"Epoch {epoch}, Loss: {loss}\")\n",
        "\n",
        "hidden_layer_output, predicted_output = feedforward(inputs)\n",
        "print(\"Predicted Output:\")\n",
        "print(predicted_output)\n"
      ],
      "metadata": {
        "colab": {
          "base_uri": "https://localhost:8080/"
        },
        "id": "-jNb6C2FWQ9Y",
        "outputId": "2bf9b549-e6cc-4627-c07a-b0afdffba6fb"
      },
      "execution_count": 25,
      "outputs": [
        {
          "output_type": "stream",
          "name": "stdout",
          "text": [
            "Epoch 0, Loss: 0.2678138223550582\n",
            "Epoch 1000, Loss: 0.2499587029570231\n",
            "Epoch 2000, Loss: 0.24969659130918204\n",
            "Epoch 3000, Loss: 0.2482695560516165\n",
            "Epoch 4000, Loss: 0.23622827850738365\n",
            "Epoch 5000, Loss: 0.1897970347511858\n",
            "Epoch 6000, Loss: 0.12771503957149524\n",
            "Epoch 7000, Loss: 0.03237468273090763\n",
            "Epoch 8000, Loss: 0.012891907708315716\n",
            "Epoch 9000, Loss: 0.007481015810941228\n",
            "Predicted Output:\n",
            "[[0.07303441]\n",
            " [0.93085368]\n",
            " [0.93123629]\n",
            " [0.07563293]]\n"
          ]
        }
      ]
    },
    {
      "cell_type": "code",
      "source": [],
      "metadata": {
        "id": "y0WyQ3cjWbnA"
      },
      "execution_count": null,
      "outputs": []
    }
  ]
}