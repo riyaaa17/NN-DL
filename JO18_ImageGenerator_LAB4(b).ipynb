{
 "cells": [
  {
   "cell_type": "code",
   "execution_count": 1,
   "id": "d3bbeaf5",
   "metadata": {},
   "outputs": [
    {
     "name": "stderr",
     "output_type": "stream",
     "text": [
      "C:\\Users\\riyad\\AppData\\Roaming\\Python\\Python310\\site-packages\\pandas\\core\\arrays\\masked.py:60: UserWarning: Pandas requires version '1.3.6' or newer of 'bottleneck' (version '1.3.5' currently installed).\n",
      "  from pandas.core import (\n"
     ]
    }
   ],
   "source": [
    "import os\n",
    "import numpy as np\n",
    "import pandas as pd\n",
    "import matplotlib.pyplot as plt\n",
    "from tensorflow.keras.preprocessing.image import ImageDataGenerator\n",
    "from tensorflow.keras.utils import to_categorical\n",
    "from sklearn.model_selection import train_test_split\n",
    "from tensorflow.keras.preprocessing.image import load_img, img_to_array\n",
    "\n",
    "# Set the path to the dataset\n",
    "dataset_path = r\"C:\\Users\\riyad\\OneDrive\\Desktop\\DATASETS\\Rice_image\"\n"
   ]
  },
  {
   "cell_type": "markdown",
   "id": "8986139e",
   "metadata": {},
   "source": [
    "Step 1: Load and Prepare the Dataset"
   ]
  },
  {
   "cell_type": "code",
   "execution_count": 2,
   "id": "5d555a49",
   "metadata": {},
   "outputs": [],
   "source": [
    "# Initialize empty lists for storing the images and labels\n",
    "images = []\n",
    "labels = []\n",
    "\n",
    "# Loop over the subfolders in the dataset\n",
    "for subfolder in os.listdir(dataset_path):\n",
    "    subfolder_path = os.path.join(dataset_path, subfolder)\n",
    "    if not os.path.isdir(subfolder_path):\n",
    "        continue\n",
    "  \n",
    "    # Loop over the images in the subfolder\n",
    "    for image_filename in os.listdir(subfolder_path):\n",
    "        image_path = os.path.join(subfolder_path, image_filename)\n",
    "        image = load_img(image_path, target_size=(224, 224))\n",
    "        image = img_to_array(image)\n",
    "        images.append(image)\n",
    "        labels.append(subfolder)\n",
    " \n",
    "# Convert to numpy arrays\n",
    "images = np.array(images, dtype='float32') / 255.0  # Normalize to [0, 1]\n",
    "labels = np.array(labels)\n",
    "\n",
    "# Convert labels to one-hot encoding\n",
    "from sklearn.preprocessing import LabelEncoder\n",
    "\n",
    "le = LabelEncoder()\n",
    "labels = le.fit_transform(labels)\n",
    "labels = to_categorical(labels, num_classes=len(le.classes_))\n",
    "\n",
    "# Split the dataset into training and validation sets\n",
    "X_train, X_val, y_train, y_val = train_test_split(images, labels, test_size=0.2, random_state=42)\n"
   ]
  },
  {
   "cell_type": "markdown",
   "id": "6b7dc778",
   "metadata": {},
   "source": [
    "Step 2: Traditional CNN Model"
   ]
  },
  {
   "cell_type": "code",
   "execution_count": 4,
   "id": "9727447c",
   "metadata": {},
   "outputs": [
    {
     "name": "stdout",
     "output_type": "stream",
     "text": [
      "Epoch 1/10\n",
      "36/36 [==============================] - 65s 2s/step - loss: 0.7019 - accuracy: 0.7298 - val_loss: 0.1870 - val_accuracy: 0.9545\n",
      "Epoch 2/10\n",
      "36/36 [==============================] - 58s 2s/step - loss: 0.1972 - accuracy: 0.9298 - val_loss: 0.1644 - val_accuracy: 0.9336\n",
      "Epoch 3/10\n",
      "36/36 [==============================] - 59s 2s/step - loss: 0.1461 - accuracy: 0.9465 - val_loss: 0.1688 - val_accuracy: 0.9441\n",
      "Epoch 4/10\n",
      "36/36 [==============================] - 60s 2s/step - loss: 0.1344 - accuracy: 0.9526 - val_loss: 0.1621 - val_accuracy: 0.9650\n",
      "Epoch 5/10\n",
      "36/36 [==============================] - 61s 2s/step - loss: 0.1077 - accuracy: 0.9605 - val_loss: 0.2287 - val_accuracy: 0.9371\n",
      "Epoch 6/10\n",
      "36/36 [==============================] - 61s 2s/step - loss: 0.1065 - accuracy: 0.9596 - val_loss: 0.2024 - val_accuracy: 0.9441\n",
      "Epoch 7/10\n",
      "36/36 [==============================] - 60s 2s/step - loss: 0.0996 - accuracy: 0.9658 - val_loss: 0.2138 - val_accuracy: 0.9545\n",
      "Epoch 8/10\n",
      "36/36 [==============================] - 62s 2s/step - loss: 0.0780 - accuracy: 0.9711 - val_loss: 0.1715 - val_accuracy: 0.9545\n",
      "Epoch 9/10\n",
      "36/36 [==============================] - 60s 2s/step - loss: 0.0667 - accuracy: 0.9702 - val_loss: 0.2268 - val_accuracy: 0.9580\n",
      "Epoch 10/10\n",
      "36/36 [==============================] - 61s 2s/step - loss: 0.0645 - accuracy: 0.9772 - val_loss: 0.2080 - val_accuracy: 0.9615\n"
     ]
    }
   ],
   "source": [
    "from tensorflow.keras.models import Sequential\n",
    "from tensorflow.keras.layers import Conv2D, MaxPooling2D, Flatten, Dense, Dropout\n",
    "\n",
    "# Define the CNN model\n",
    "model = Sequential([\n",
    "    Conv2D(32, (3, 3), activation='relu', input_shape=(224, 224, 3)),\n",
    "    MaxPooling2D(pool_size=(2, 2)),\n",
    "    \n",
    "    Conv2D(64, (3, 3), activation='relu'),\n",
    "    MaxPooling2D(pool_size=(2, 2)),\n",
    "    \n",
    "    Conv2D(128, (3, 3), activation='relu'),\n",
    "    MaxPooling2D(pool_size=(2, 2)),\n",
    "    \n",
    "    Flatten(),\n",
    "    Dense(128, activation='relu'),\n",
    "    Dropout(0.5),\n",
    "    Dense(len(le.classes_), activation='softmax')\n",
    "])\n",
    "\n",
    "# Compile the model\n",
    "model.compile(optimizer='adam', loss='categorical_crossentropy', metrics=['accuracy'])\n",
    "\n",
    "# Train the model\n",
    "history = model.fit(X_train, y_train, validation_data=(X_val, y_val), epochs=10, batch_size=32)\n"
   ]
  },
  {
   "cell_type": "markdown",
   "id": "55c2d260",
   "metadata": {},
   "source": [
    "Step 3: Image Augmentation with Image Generator"
   ]
  },
  {
   "cell_type": "code",
   "execution_count": 5,
   "id": "adac2d91",
   "metadata": {},
   "outputs": [
    {
     "name": "stdout",
     "output_type": "stream",
     "text": [
      "Epoch 1/10\n",
      "36/36 [==============================] - 62s 2s/step - loss: 1.6690 - accuracy: 0.3658 - val_loss: 1.2779 - val_accuracy: 0.4161\n",
      "Epoch 2/10\n",
      "36/36 [==============================] - 63s 2s/step - loss: 1.2820 - accuracy: 0.4035 - val_loss: 1.2382 - val_accuracy: 0.4161\n",
      "Epoch 3/10\n",
      "36/36 [==============================] - 64s 2s/step - loss: 1.2216 - accuracy: 0.4202 - val_loss: 1.1497 - val_accuracy: 0.4161\n",
      "Epoch 4/10\n",
      "36/36 [==============================] - 63s 2s/step - loss: 1.2076 - accuracy: 0.4351 - val_loss: 1.1328 - val_accuracy: 0.4441\n",
      "Epoch 5/10\n",
      "36/36 [==============================] - 62s 2s/step - loss: 1.1717 - accuracy: 0.4307 - val_loss: 1.0510 - val_accuracy: 0.5699\n",
      "Epoch 6/10\n",
      "36/36 [==============================] - 62s 2s/step - loss: 1.1186 - accuracy: 0.4518 - val_loss: 1.0982 - val_accuracy: 0.3671\n",
      "Epoch 7/10\n",
      "36/36 [==============================] - 67s 2s/step - loss: 1.0503 - accuracy: 0.4991 - val_loss: 1.0494 - val_accuracy: 0.4196\n",
      "Epoch 8/10\n",
      "36/36 [==============================] - 65s 2s/step - loss: 0.9897 - accuracy: 0.5254 - val_loss: 1.0299 - val_accuracy: 0.5140\n",
      "Epoch 9/10\n",
      "36/36 [==============================] - 62s 2s/step - loss: 0.9372 - accuracy: 0.5482 - val_loss: 1.2977 - val_accuracy: 0.3881\n",
      "Epoch 10/10\n",
      "36/36 [==============================] - 62s 2s/step - loss: 0.8904 - accuracy: 0.5939 - val_loss: 0.7954 - val_accuracy: 0.5769\n"
     ]
    }
   ],
   "source": [
    "# Define the ImageDataGenerator with augmentation\n",
    "datagen = ImageDataGenerator(\n",
    "    rotation_range=20,\n",
    "    width_shift_range=0.2,\n",
    "    height_shift_range=0.2,\n",
    "    zoom_range=0.2,\n",
    "    horizontal_flip=True,\n",
    "    fill_mode='nearest'\n",
    ")\n",
    "\n",
    "# Fit the generator to the training data\n",
    "datagen.fit(X_train)\n",
    "\n",
    "# Train the model using the augmented data\n",
    "history_aug = model.fit(datagen.flow(X_train, y_train, batch_size=32),\n",
    "                        validation_data=(X_val, y_val), epochs=10)\n"
   ]
  },
  {
   "cell_type": "markdown",
   "id": "db64db59",
   "metadata": {},
   "source": [
    "Step 4: Evaluate the Models"
   ]
  },
  {
   "cell_type": "code",
   "execution_count": 6,
   "id": "cd38bdb7",
   "metadata": {},
   "outputs": [
    {
     "name": "stdout",
     "output_type": "stream",
     "text": [
      "9/9 [==============================] - 4s 419ms/step - loss: 0.7954 - accuracy: 0.5769\n",
      "Traditional CNN - Accuracy: 57.69%\n",
      "9/9 [==============================] - 4s 424ms/step - loss: 0.7954 - accuracy: 0.5769\n",
      "Augmented CNN - Accuracy: 57.69%\n"
     ]
    }
   ],
   "source": [
    "# Evaluate the traditional CNN model\n",
    "loss, accuracy = model.evaluate(X_val, y_val)\n",
    "print(f\"Traditional CNN - Accuracy: {accuracy * 100:.2f}%\")\n",
    "\n",
    "# Evaluate the augmented CNN model\n",
    "loss_aug, accuracy_aug = model.evaluate(X_val, y_val)\n",
    "print(f\"Augmented CNN - Accuracy: {accuracy_aug * 100:.2f}%\")\n",
    "\n"
   ]
  },
  {
   "cell_type": "code",
   "execution_count": null,
   "id": "95d38f3e",
   "metadata": {},
   "outputs": [],
   "source": []
  }
 ],
 "metadata": {
  "kernelspec": {
   "display_name": "Python 3 (ipykernel)",
   "language": "python",
   "name": "python3"
  },
  "language_info": {
   "codemirror_mode": {
    "name": "ipython",
    "version": 3
   },
   "file_extension": ".py",
   "mimetype": "text/x-python",
   "name": "python",
   "nbconvert_exporter": "python",
   "pygments_lexer": "ipython3",
   "version": "3.10.9"
  }
 },
 "nbformat": 4,
 "nbformat_minor": 5
}
