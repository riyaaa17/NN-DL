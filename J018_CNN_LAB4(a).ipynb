{
 "cells": [
  {
   "cell_type": "code",
   "execution_count": 3,
   "id": "0c7004f6",
   "metadata": {},
   "outputs": [],
   "source": [
    "import os\n",
    "import numpy as np\n",
    "import pandas as pd\n",
    "import matplotlib.pyplot as plt\n",
    "from tensorflow.keras.preprocessing.image import ImageDataGenerator\n",
    "from tensorflow.keras.utils import to_categorical\n",
    "from sklearn.model_selection import train_test_split\n",
    "from tensorflow.keras.preprocessing.image import load_img, img_to_array\n",
    "\n",
    "# Set the path to the dataset\n",
    "root_dir = r\"C:\\Users\\riyad\\OneDrive\\Desktop\\DATASETS\\Rice_image\"\n"
   ]
  },
  {
   "cell_type": "code",
   "execution_count": 4,
   "id": "f41dc4dd",
   "metadata": {},
   "outputs": [],
   "source": [
    "image_paths = []\n",
    "labels = []\n",
    "\n",
    "# Get list of all items in the root directory\n",
    "for item in os.listdir(root_dir):\n",
    "    item_path = os.path.join(root_dir, item)\n",
    "    if os.path.isdir(item_path):  # Check if the item is a directory\n",
    "        label = item\n",
    "        \n",
    "        for dirpath, _, filenames in os.walk(item_path):\n",
    "            for filename in filenames:\n",
    "                # Construct the full path to the image\n",
    "                image_path = os.path.join(dirpath, filename)\n",
    "                image_paths.append(image_path)\n",
    "                labels.append(label)\n",
    "\n",
    "# Create a DataFrame from the collected paths and labels\n",
    "data = {'image_path': image_paths, 'label': labels}\n",
    "df = pd.DataFrame(data)"
   ]
  },
  {
   "cell_type": "code",
   "execution_count": 5,
   "id": "5ad77a27",
   "metadata": {},
   "outputs": [
    {
     "data": {
      "text/html": [
       "<div>\n",
       "<style scoped>\n",
       "    .dataframe tbody tr th:only-of-type {\n",
       "        vertical-align: middle;\n",
       "    }\n",
       "\n",
       "    .dataframe tbody tr th {\n",
       "        vertical-align: top;\n",
       "    }\n",
       "\n",
       "    .dataframe thead th {\n",
       "        text-align: right;\n",
       "    }\n",
       "</style>\n",
       "<table border=\"1\" class=\"dataframe\">\n",
       "  <thead>\n",
       "    <tr style=\"text-align: right;\">\n",
       "      <th></th>\n",
       "      <th>image_path</th>\n",
       "      <th>label</th>\n",
       "    </tr>\n",
       "  </thead>\n",
       "  <tbody>\n",
       "    <tr>\n",
       "      <th>0</th>\n",
       "      <td>C:\\Users\\riyad\\OneDrive\\Desktop\\DATASETS\\Rice_...</td>\n",
       "      <td>Arborio</td>\n",
       "    </tr>\n",
       "    <tr>\n",
       "      <th>1</th>\n",
       "      <td>C:\\Users\\riyad\\OneDrive\\Desktop\\DATASETS\\Rice_...</td>\n",
       "      <td>Arborio</td>\n",
       "    </tr>\n",
       "    <tr>\n",
       "      <th>2</th>\n",
       "      <td>C:\\Users\\riyad\\OneDrive\\Desktop\\DATASETS\\Rice_...</td>\n",
       "      <td>Arborio</td>\n",
       "    </tr>\n",
       "    <tr>\n",
       "      <th>3</th>\n",
       "      <td>C:\\Users\\riyad\\OneDrive\\Desktop\\DATASETS\\Rice_...</td>\n",
       "      <td>Arborio</td>\n",
       "    </tr>\n",
       "    <tr>\n",
       "      <th>4</th>\n",
       "      <td>C:\\Users\\riyad\\OneDrive\\Desktop\\DATASETS\\Rice_...</td>\n",
       "      <td>Arborio</td>\n",
       "    </tr>\n",
       "  </tbody>\n",
       "</table>\n",
       "</div>"
      ],
      "text/plain": [
       "                                          image_path    label\n",
       "0  C:\\Users\\riyad\\OneDrive\\Desktop\\DATASETS\\Rice_...  Arborio\n",
       "1  C:\\Users\\riyad\\OneDrive\\Desktop\\DATASETS\\Rice_...  Arborio\n",
       "2  C:\\Users\\riyad\\OneDrive\\Desktop\\DATASETS\\Rice_...  Arborio\n",
       "3  C:\\Users\\riyad\\OneDrive\\Desktop\\DATASETS\\Rice_...  Arborio\n",
       "4  C:\\Users\\riyad\\OneDrive\\Desktop\\DATASETS\\Rice_...  Arborio"
      ]
     },
     "execution_count": 5,
     "metadata": {},
     "output_type": "execute_result"
    }
   ],
   "source": [
    "# checking some of the data of dataframe df\n",
    "df.head()"
   ]
  },
  {
   "cell_type": "code",
   "execution_count": 11,
   "id": "23bfb39d",
   "metadata": {},
   "outputs": [
    {
     "data": {
      "text/html": [
       "<div>\n",
       "<style scoped>\n",
       "    .dataframe tbody tr th:only-of-type {\n",
       "        vertical-align: middle;\n",
       "    }\n",
       "\n",
       "    .dataframe tbody tr th {\n",
       "        vertical-align: top;\n",
       "    }\n",
       "\n",
       "    .dataframe thead th {\n",
       "        text-align: right;\n",
       "    }\n",
       "</style>\n",
       "<table border=\"1\" class=\"dataframe\">\n",
       "  <thead>\n",
       "    <tr style=\"text-align: right;\">\n",
       "      <th></th>\n",
       "      <th>image_path</th>\n",
       "      <th>label</th>\n",
       "    </tr>\n",
       "  </thead>\n",
       "  <tbody>\n",
       "    <tr>\n",
       "      <th>0</th>\n",
       "      <td>C:\\Users\\riyad\\OneDrive\\Desktop\\DATASETS\\Rice_...</td>\n",
       "      <td>0</td>\n",
       "    </tr>\n",
       "    <tr>\n",
       "      <th>1</th>\n",
       "      <td>C:\\Users\\riyad\\OneDrive\\Desktop\\DATASETS\\Rice_...</td>\n",
       "      <td>0</td>\n",
       "    </tr>\n",
       "    <tr>\n",
       "      <th>2</th>\n",
       "      <td>C:\\Users\\riyad\\OneDrive\\Desktop\\DATASETS\\Rice_...</td>\n",
       "      <td>0</td>\n",
       "    </tr>\n",
       "    <tr>\n",
       "      <th>3</th>\n",
       "      <td>C:\\Users\\riyad\\OneDrive\\Desktop\\DATASETS\\Rice_...</td>\n",
       "      <td>0</td>\n",
       "    </tr>\n",
       "    <tr>\n",
       "      <th>4</th>\n",
       "      <td>C:\\Users\\riyad\\OneDrive\\Desktop\\DATASETS\\Rice_...</td>\n",
       "      <td>0</td>\n",
       "    </tr>\n",
       "  </tbody>\n",
       "</table>\n",
       "</div>"
      ],
      "text/plain": [
       "                                          image_path  label\n",
       "0  C:\\Users\\riyad\\OneDrive\\Desktop\\DATASETS\\Rice_...      0\n",
       "1  C:\\Users\\riyad\\OneDrive\\Desktop\\DATASETS\\Rice_...      0\n",
       "2  C:\\Users\\riyad\\OneDrive\\Desktop\\DATASETS\\Rice_...      0\n",
       "3  C:\\Users\\riyad\\OneDrive\\Desktop\\DATASETS\\Rice_...      0\n",
       "4  C:\\Users\\riyad\\OneDrive\\Desktop\\DATASETS\\Rice_...      0"
      ]
     },
     "execution_count": 11,
     "metadata": {},
     "output_type": "execute_result"
    }
   ],
   "source": [
    "# converting rice label (text) to numerical label ( 0 to 4)\n",
    "\n",
    "label_map = {'Arborio': 0, 'Basmati': 1, 'Ipsala': 2, 'Jasmine': 3, 'Karacadag': 4}\n",
    "df['label'] = df['label'].map(label_map)\n",
    "df.head()"
   ]
  },
  {
   "cell_type": "code",
   "execution_count": 12,
   "id": "95f12317",
   "metadata": {},
   "outputs": [
    {
     "name": "stdout",
     "output_type": "stream",
     "text": [
      "(998,) (214,) (214,)\n"
     ]
    }
   ],
   "source": [
    "from sklearn.model_selection import train_test_split\n",
    "stratify_label = df['label']\n",
    "\n",
    "x_train, x_, y_train, y_ = train_test_split(df['image_path'], df['label'],\n",
    "                                            test_size= 0.3, random_state= 42, stratify= stratify_label)\n",
    "\n",
    "x_val, x_test, y_val, y_test = train_test_split(x_, y_, test_size= 0.5,\n",
    "                                               random_state= 45, stratify= y_)\n",
    "\n",
    "print(x_train.shape, x_val.shape, x_test.shape)"
   ]
  },
  {
   "cell_type": "code",
   "execution_count": 13,
   "id": "5c315c6f",
   "metadata": {},
   "outputs": [
    {
     "data": {
      "text/plain": [
       "label\n",
       "4    88\n",
       "0    80\n",
       "3    26\n",
       "1    13\n",
       "2     7\n",
       "Name: count, dtype: int64"
      ]
     },
     "execution_count": 13,
     "metadata": {},
     "output_type": "execute_result"
    }
   ],
   "source": [
    "# to check if split is uniform and each class in equal proportion in train, val and test set\n",
    "y_test.value_counts()"
   ]
  },
  {
   "cell_type": "code",
   "execution_count": 14,
   "id": "149506c1",
   "metadata": {},
   "outputs": [
    {
     "data": {
      "image/png": "[encoded data removed]",
      "text/plain": [
       "<Figure size 640x480 with 1 Axes>"
      ]
     },
     "metadata": {},
     "output_type": "display_data"
    }
   ],
   "source": [
    "#Visualize a sample image¶\n",
    "from PIL import Image\n",
    "import matplotlib.pyplot as plt\n",
    "\n",
    "sample_image_path = df.iloc[0]['image_path']\n",
    "\n",
    "image = Image.open(sample_image_path)\n",
    "\n",
    "# Display the image using matplotlib\n",
    "plt.imshow(image)\n",
    "plt.title(f\"Label: {df.iloc[0]['label']}\")\n",
    "plt.axis('off')  # Hide the axis\n",
    "plt.show()"
   ]
  },
  {
   "cell_type": "code",
   "execution_count": 15,
   "id": "4860205c",
   "metadata": {},
   "outputs": [],
   "source": [
    "import tensorflow as tf\n",
    "\n",
    "def preprocess_image(image_path, image_size=(128, 128)):\n",
    "    image = tf.io.read_file(image_path)\n",
    "    image = tf.image.decode_jpeg(image, channels=3)\n",
    "    image = tf.image.resize(image, image_size)\n",
    "    image = image / 255.0\n",
    "    return image\n",
    "\n",
    "def data_generator(image_path, labels, image_size=(128, 128), batch_size=32):\n",
    "    dataset = tf.data.Dataset.from_tensor_slices((image_path, labels))\n",
    "    dataset = dataset.map(lambda x, y: (preprocess_image(x, image_size), y))\n",
    "    dataset = dataset.shuffle(buffer_size=1024)\n",
    "    batch_dataset = dataset.batch(batch_size, drop_remainder= True)\n",
    "    batch_dataset = batch_dataset.prefetch(buffer_size=tf.data.experimental.AUTOTUNE)\n",
    "    return batch_dataset\n",
    "\n",
    "train_dataset = data_generator(x_train, y_train, image_size= (128, 128), batch_size= 32)\n",
    "val_dataset = data_generator(x_val, y_val, image_size= (128, 128), batch_size= 32)\n",
    "test_dataset = data_generator(x_test, y_test, image_size= (128, 128), batch_size= 32)"
   ]
  },
  {
   "cell_type": "code",
   "execution_count": 16,
   "id": "29436b4c",
   "metadata": {},
   "outputs": [
    {
     "name": "stdout",
     "output_type": "stream",
     "text": [
      "Images shape: (32, 128, 128, 3)\n",
      "Labels shape: (32,)\n"
     ]
    }
   ],
   "source": [
    "# to check images shape - 4D tensor (32, 128, 128, 3)\n",
    "# 32 - batch size, 128x128 - image pixel, 3 - channels\n",
    "\n",
    "for batch in train_dataset.take(1):\n",
    "    images, labels = batch\n",
    "    print(\"Images shape:\", images.shape)\n",
    "    print(\"Labels shape:\", labels.shape)"
   ]
  },
  {
   "cell_type": "code",
   "execution_count": 17,
   "id": "c5b72dea",
   "metadata": {},
   "outputs": [],
   "source": [
    "#Building a CNN model \n",
    "from keras import Sequential\n",
    "from keras.layers import Conv2D\n",
    "from keras.layers import MaxPooling2D\n",
    "from keras.layers import Flatten\n",
    "from keras.layers import Dense\n",
    "from keras.losses import sparse_categorical_crossentropy\n",
    "\n",
    "input_shape= (128,128,3)\n",
    "model = Sequential([\n",
    "    Conv2D(filters= 32, kernel_size= (3,3), activation= 'relu', input_shape= input_shape),\n",
    "    MaxPooling2D(pool_size=(2, 2)),\n",
    "    \n",
    "    Conv2D(filters= 32, kernel_size= (3,3), activation= 'relu'),\n",
    "    MaxPooling2D(pool_size= (2, 2)),\n",
    "    \n",
    "    Flatten(),\n",
    "    \n",
    "    Dense(32, activation= 'relu'),\n",
    "    Dense(5, activation= 'softmax')\n",
    "    \n",
    "    ])\n",
    "\n",
    "# compile the model\n",
    "model.compile(optimizer= 'Adam',\n",
    "             loss= sparse_categorical_crossentropy,\n",
    "             metrics= ['Accuracy'])"
   ]
  },
  {
   "cell_type": "code",
   "execution_count": 18,
   "id": "11b0a2e1",
   "metadata": {},
   "outputs": [
    {
     "name": "stdout",
     "output_type": "stream",
     "text": [
      "Epoch 1/2\n",
      "31/31 [==============================] - 11s 302ms/step - loss: 0.7304 - Accuracy: 0.7177 - val_loss: 0.2549 - val_Accuracy: 0.9219\n",
      "Epoch 2/2\n",
      "31/31 [==============================] - 9s 288ms/step - loss: 0.2128 - Accuracy: 0.9325 - val_loss: 0.3074 - val_Accuracy: 0.9115\n"
     ]
    },
    {
     "data": {
      "text/plain": [
       "<keras.src.callbacks.History at 0x281017b0ac0>"
      ]
     },
     "execution_count": 18,
     "metadata": {},
     "output_type": "execute_result"
    }
   ],
   "source": [
    "# Training the data for 2 epochs and using validation data as val_dataset created above\n",
    "\n",
    "model.fit(train_dataset,\n",
    "          epochs= 2,\n",
    "         validation_data= val_dataset,\n",
    "         )"
   ]
  },
  {
   "cell_type": "code",
   "execution_count": 19,
   "id": "a5a5010a",
   "metadata": {},
   "outputs": [
    {
     "name": "stdout",
     "output_type": "stream",
     "text": [
      "6/6 [==============================] - 1s 71ms/step - loss: 0.3358 - Accuracy: 0.8854\n",
      "Test accuracy: 0.8854166865348816\n"
     ]
    }
   ],
   "source": [
    "# Evaluate the model\n",
    "loss, accuracy = model.evaluate(test_dataset)\n",
    "print(f\"Test accuracy: {accuracy}\")"
   ]
  },
  {
   "cell_type": "code",
   "execution_count": 20,
   "id": "58e6150b",
   "metadata": {},
   "outputs": [
    {
     "name": "stdout",
     "output_type": "stream",
     "text": [
      "Model saved successfully!\n"
     ]
    }
   ],
   "source": [
    "# Save the model\n",
    "model.save('CNN_model.h5')\n",
    "print (\"Model saved successfully!\")"
   ]
  },
  {
   "cell_type": "code",
   "execution_count": null,
   "id": "a41f81c8",
   "metadata": {},
   "outputs": [],
   "source": []
  }
 ],
 "metadata": {
  "kernelspec": {
   "display_name": "Python 3 (ipykernel)",
   "language": "python",
   "name": "python3"
  },
  "language_info": {
   "codemirror_mode": {
    "name": "ipython",
    "version": 3
   },
   "file_extension": ".py",
   "mimetype": "text/x-python",
   "name": "python",
   "nbconvert_exporter": "python",
   "pygments_lexer": "ipython3",
   "version": "3.10.9"
  }
 },
 "nbformat": 4,
 "nbformat_minor": 5
}
